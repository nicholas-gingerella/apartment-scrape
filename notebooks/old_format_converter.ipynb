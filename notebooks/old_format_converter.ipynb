{
 "cells": [
  {
   "cell_type": "code",
   "execution_count": 1,
   "id": "599af518",
   "metadata": {},
   "outputs": [],
   "source": [
    "import pandas as pd\n",
    "import numpy as np\n",
    "import json\n",
    "import os"
   ]
  },
  {
   "cell_type": "code",
   "execution_count": 2,
   "id": "450b1802",
   "metadata": {},
   "outputs": [],
   "source": [
    "# Global DataFrame Display Settings\n",
    "pd.set_option('display.max_rows', None)\n",
    "pd.set_option('display.max_columns', None)\n",
    "pd.set_option('display.width', None)\n",
    "pd.set_option('display.max_colwidth', None)"
   ]
  },
  {
   "cell_type": "code",
   "execution_count": 15,
   "id": "6cf5318b",
   "metadata": {},
   "outputs": [],
   "source": [
    "old_scrapes = os.listdir('../scrapes/')\n",
    "for scrapefile in old_scrapes:\n",
    "    listing_list = []\n",
    "    with open(f'../scrapes/{scrapefile}','r') as f:\n",
    "        json_scrape = json.load(f)\n",
    "        for k,v in json_scrape['listings'].items():\n",
    "            new_listing = v\n",
    "            new_listing['id'] = k\n",
    "            listing_list.append(new_listing)\n",
    "        with open(f'../scrapes/{scrapefile}_converted','w') as converted:\n",
    "            json.dump(listing_list, converted)\n",
    "    "
   ]
  }
 ],
 "metadata": {
  "kernelspec": {
   "display_name": "Python 3 (ipykernel)",
   "language": "python",
   "name": "python3"
  },
  "language_info": {
   "codemirror_mode": {
    "name": "ipython",
    "version": 3
   },
   "file_extension": ".py",
   "mimetype": "text/x-python",
   "name": "python",
   "nbconvert_exporter": "python",
   "pygments_lexer": "ipython3",
   "version": "3.9.6"
  }
 },
 "nbformat": 4,
 "nbformat_minor": 5
}
